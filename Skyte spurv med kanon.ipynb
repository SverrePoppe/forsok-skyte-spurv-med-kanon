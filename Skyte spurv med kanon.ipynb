{
 "cells": [
  {
   "cell_type": "markdown",
   "metadata": {},
   "source": [
    "# Forsøk Skyte spurv med kanon\n",
    "\n"
   ]
  },
  {
   "cell_type": "code",
   "execution_count": 1,
   "metadata": {},
   "outputs": [
    {
     "name": "stdout",
     "output_type": "stream",
     "text": [
      "0.63506625891947\n",
      "for vinkel 0.5235987755982988 3.4263972879250812\n"
     ]
    }
   ],
   "source": [
    "from pylab import *\n",
    "\n",
    "def f(t):\n",
    "    return v_0*sin(fi)*t-(1/2)*g*t**2\n",
    "\n",
    "\n",
    "def fder(t):\n",
    "    return -g*t\n",
    "\n",
    "def x(t):\n",
    "    return v_0*cos(fi)*t\n",
    "\n",
    "\n",
    "\n",
    "v_0 = 6.23\n",
    " \n",
    "fi = pi/(6)\n",
    " \n",
    "g = 9.81\n",
    "\n",
    "tol= 1E-15\n",
    "a=15\n",
    "\n",
    "c = a\n",
    "while abs(f(c))>tol:\n",
    "    c=a-(f(a))/fder(a)\n",
    "    a=c\n",
    "print(c)\n",
    "\n",
    "\n",
    "\n",
    "\n",
    "print(\"for vinkel\", fi, x(c))\n"
   ]
  },
  {
   "cell_type": "markdown",
   "metadata": {},
   "source": [
    "Den første målingen vi gjorde var tiden ved 90 grader. Programmet vårt regnet ut at det skulle ta 1,27 sekund. Vi målte 1,29 sekunder med stoppeklokke. Deretter målte vi lengden ballen gikk når vi skøt den ut med vinkel på 60, 45, og 30 grader.\n",
    "\n",
    "| vinkel   | teoretisk s | teoretisk t | Målt lengde s |\n",
    "|----------|-------------|-------------|---------------|\n",
    "|60 grader | 3,43 m      | 1,10s       | 3,3 m         |   \n",
    "|45 grader | 3,96 m      | 0,75s       | 3,8 m         |\n",
    "|30 grader | 3,43 m      | 0,64s       | 3,2 m         |\n",
    "\n",
    "I dette forsøket er det flere feilkilder. Det kan være vanskelig å se nøyaktig hvor ballen lander, det er også en feilkilde at vi bare målte startfarten på en vinkel. Den største feilkilden er når vi målte vinkellen ballen ble skutt ut med. Det er vanskelig å måle vinkelen presist, og ballkasteren er ikke fast nok til at den holder en vinkel uten støtte, dette gjør det vanskelig å skyte med riktig vinkel."
   ]
  },
  {
   "cell_type": "code",
   "execution_count": null,
   "metadata": {},
   "outputs": [],
   "source": []
  }
 ],
 "metadata": {
  "kernelspec": {
   "display_name": "Python 3",
   "language": "python",
   "name": "python3"
  },
  "language_info": {
   "codemirror_mode": {
    "name": "ipython",
    "version": 3
   },
   "file_extension": ".py",
   "mimetype": "text/x-python",
   "name": "python",
   "nbconvert_exporter": "python",
   "pygments_lexer": "ipython3",
   "version": "3.6.5"
  }
 },
 "nbformat": 4,
 "nbformat_minor": 2
}
